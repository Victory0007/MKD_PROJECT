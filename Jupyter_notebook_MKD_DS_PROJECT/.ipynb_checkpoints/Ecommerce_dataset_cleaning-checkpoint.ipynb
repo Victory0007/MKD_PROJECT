{
 "cells": [
  {
   "cell_type": "code",
   "execution_count": 419,
   "id": "46eb6a4d",
   "metadata": {},
   "outputs": [],
   "source": [
    "#importing necessary libraries\n",
    "import numpy as np\n",
    "import pandas as pd"
   ]
  },
  {
   "cell_type": "code",
   "execution_count": 420,
   "id": "953d3c75",
   "metadata": {},
   "outputs": [
    {
     "name": "stdout",
     "output_type": "stream",
     "text": [
      "(541909, 8)\n"
     ]
    },
    {
     "data": {
      "text/html": [
       "<div>\n",
       "<style scoped>\n",
       "    .dataframe tbody tr th:only-of-type {\n",
       "        vertical-align: middle;\n",
       "    }\n",
       "\n",
       "    .dataframe tbody tr th {\n",
       "        vertical-align: top;\n",
       "    }\n",
       "\n",
       "    .dataframe thead th {\n",
       "        text-align: right;\n",
       "    }\n",
       "</style>\n",
       "<table border=\"1\" class=\"dataframe\">\n",
       "  <thead>\n",
       "    <tr style=\"text-align: right;\">\n",
       "      <th></th>\n",
       "      <th>InvoiceNo</th>\n",
       "      <th>StockCode</th>\n",
       "      <th>Description</th>\n",
       "      <th>Quantity</th>\n",
       "      <th>InvoiceDate</th>\n",
       "      <th>UnitPrice</th>\n",
       "      <th>CustomerID</th>\n",
       "      <th>Country</th>\n",
       "    </tr>\n",
       "  </thead>\n",
       "  <tbody>\n",
       "    <tr>\n",
       "      <th>0</th>\n",
       "      <td>536365</td>\n",
       "      <td>85123A</td>\n",
       "      <td>WHITE HANGING HEART T-LIGHT HOLDER</td>\n",
       "      <td>6</td>\n",
       "      <td>2010-12-01 08:26:00</td>\n",
       "      <td>2.55</td>\n",
       "      <td>17850.0</td>\n",
       "      <td>XxYUnited Kingdom☺️</td>\n",
       "    </tr>\n",
       "    <tr>\n",
       "      <th>1</th>\n",
       "      <td>536365</td>\n",
       "      <td>71053</td>\n",
       "      <td>WHITE METAL LANTERN</td>\n",
       "      <td>6</td>\n",
       "      <td>2010-12-01 08:26:00</td>\n",
       "      <td>3.39</td>\n",
       "      <td>17850.0</td>\n",
       "      <td>United Kingdom</td>\n",
       "    </tr>\n",
       "    <tr>\n",
       "      <th>2</th>\n",
       "      <td>536365</td>\n",
       "      <td>ö84406B^</td>\n",
       "      <td>CREAM CUPID HEARTS COAT HANGER</td>\n",
       "      <td>8</td>\n",
       "      <td>2010-12-01 08:26:00</td>\n",
       "      <td>2.75</td>\n",
       "      <td>&amp;17850.0#</td>\n",
       "      <td>XxYUnited Kingdom☺️</td>\n",
       "    </tr>\n",
       "    <tr>\n",
       "      <th>3</th>\n",
       "      <td>536365</td>\n",
       "      <td>84029G</td>\n",
       "      <td>$KNITTED UNION FLAG HOT WATER BOTTLE</td>\n",
       "      <td>6@</td>\n",
       "      <td>2010-12-01 08:26:00</td>\n",
       "      <td>3.39</td>\n",
       "      <td>17850.0</td>\n",
       "      <td>United Kingdom</td>\n",
       "    </tr>\n",
       "    <tr>\n",
       "      <th>4</th>\n",
       "      <td>536365</td>\n",
       "      <td>84029E</td>\n",
       "      <td>$RED WOOLLY HOTTIE WHITE HEART.</td>\n",
       "      <td>6@</td>\n",
       "      <td>2010-12-01 08:26:00</td>\n",
       "      <td>3.39</td>\n",
       "      <td>&amp;17850.0#</td>\n",
       "      <td>United Kingdom</td>\n",
       "    </tr>\n",
       "  </tbody>\n",
       "</table>\n",
       "</div>"
      ],
      "text/plain": [
       "  InvoiceNo StockCode                           Description Quantity  \\\n",
       "0    536365    85123A    WHITE HANGING HEART T-LIGHT HOLDER        6   \n",
       "1    536365     71053                   WHITE METAL LANTERN        6   \n",
       "2    536365  ö84406B^        CREAM CUPID HEARTS COAT HANGER        8   \n",
       "3    536365    84029G  $KNITTED UNION FLAG HOT WATER BOTTLE       6@   \n",
       "4    536365    84029E       $RED WOOLLY HOTTIE WHITE HEART.       6@   \n",
       "\n",
       "           InvoiceDate UnitPrice CustomerID              Country  \n",
       "0  2010-12-01 08:26:00      2.55    17850.0  XxYUnited Kingdom☺️  \n",
       "1  2010-12-01 08:26:00      3.39    17850.0       United Kingdom  \n",
       "2  2010-12-01 08:26:00      2.75  &17850.0#  XxYUnited Kingdom☺️  \n",
       "3  2010-12-01 08:26:00      3.39    17850.0       United Kingdom  \n",
       "4  2010-12-01 08:26:00      3.39  &17850.0#       United Kingdom  "
      ]
     },
     "execution_count": 420,
     "metadata": {},
     "output_type": "execute_result"
    }
   ],
   "source": [
    "df = pd.read_csv(\"Dataset/dataset.csv\")\n",
    "print(df.shape)\n",
    "df.head()"
   ]
  },
  {
   "cell_type": "code",
   "execution_count": 421,
   "id": "837b691b",
   "metadata": {},
   "outputs": [
    {
     "data": {
      "text/plain": [
       "InvoiceNo           0\n",
       "StockCode           0\n",
       "Description      1025\n",
       "Quantity            0\n",
       "InvoiceDate         0\n",
       "UnitPrice           0\n",
       "CustomerID     108000\n",
       "Country             0\n",
       "dtype: int64"
      ]
     },
     "execution_count": 421,
     "metadata": {},
     "output_type": "execute_result"
    }
   ],
   "source": [
    "#Remove duplicates, Handle missing_values, standardize format\n",
    "df.isnull().sum()"
   ]
  },
  {
   "cell_type": "code",
   "execution_count": 422,
   "id": "06cdac58",
   "metadata": {},
   "outputs": [
    {
     "data": {
      "text/html": [
       "<div>\n",
       "<style scoped>\n",
       "    .dataframe tbody tr th:only-of-type {\n",
       "        vertical-align: middle;\n",
       "    }\n",
       "\n",
       "    .dataframe tbody tr th {\n",
       "        vertical-align: top;\n",
       "    }\n",
       "\n",
       "    .dataframe thead th {\n",
       "        text-align: right;\n",
       "    }\n",
       "</style>\n",
       "<table border=\"1\" class=\"dataframe\">\n",
       "  <thead>\n",
       "    <tr style=\"text-align: right;\">\n",
       "      <th></th>\n",
       "      <th>InvoiceNo</th>\n",
       "      <th>StockCode</th>\n",
       "      <th>Description</th>\n",
       "      <th>Quantity</th>\n",
       "      <th>InvoiceDate</th>\n",
       "      <th>UnitPrice</th>\n",
       "      <th>CustomerID</th>\n",
       "      <th>Country</th>\n",
       "    </tr>\n",
       "  </thead>\n",
       "  <tbody>\n",
       "    <tr>\n",
       "      <th>count</th>\n",
       "      <td>541909</td>\n",
       "      <td>541909</td>\n",
       "      <td>540884</td>\n",
       "      <td>541909</td>\n",
       "      <td>541909</td>\n",
       "      <td>541909</td>\n",
       "      <td>433909</td>\n",
       "      <td>541909</td>\n",
       "    </tr>\n",
       "    <tr>\n",
       "      <th>unique</th>\n",
       "      <td>44726</td>\n",
       "      <td>7805</td>\n",
       "      <td>7956</td>\n",
       "      <td>1059</td>\n",
       "      <td>23260</td>\n",
       "      <td>2015</td>\n",
       "      <td>8467</td>\n",
       "      <td>76</td>\n",
       "    </tr>\n",
       "    <tr>\n",
       "      <th>top</th>\n",
       "      <td>573585ä</td>\n",
       "      <td>85123A</td>\n",
       "      <td>WHITE HANGING HEART T-LIGHT HOLDER</td>\n",
       "      <td>1</td>\n",
       "      <td>2011-10-31 14:41:00</td>\n",
       "      <td>1.25</td>\n",
       "      <td>&amp;nan#</td>\n",
       "      <td>United Kingdom</td>\n",
       "    </tr>\n",
       "    <tr>\n",
       "      <th>freq</th>\n",
       "      <td>561</td>\n",
       "      <td>1184</td>\n",
       "      <td>1699</td>\n",
       "      <td>88742</td>\n",
       "      <td>1114</td>\n",
       "      <td>40287</td>\n",
       "      <td>27080</td>\n",
       "      <td>248303</td>\n",
       "    </tr>\n",
       "  </tbody>\n",
       "</table>\n",
       "</div>"
      ],
      "text/plain": [
       "       InvoiceNo StockCode                         Description Quantity  \\\n",
       "count     541909    541909                              540884   541909   \n",
       "unique     44726      7805                                7956     1059   \n",
       "top      573585ä    85123A  WHITE HANGING HEART T-LIGHT HOLDER        1   \n",
       "freq         561      1184                                1699    88742   \n",
       "\n",
       "                InvoiceDate UnitPrice CustomerID         Country  \n",
       "count                541909    541909     433909          541909  \n",
       "unique                23260      2015       8467              76  \n",
       "top     2011-10-31 14:41:00      1.25      &nan#  United Kingdom  \n",
       "freq                   1114     40287      27080          248303  "
      ]
     },
     "execution_count": 422,
     "metadata": {},
     "output_type": "execute_result"
    }
   ],
   "source": [
    "#Checking for the summary of the dataset\n",
    "df.describe()"
   ]
  },
  {
   "cell_type": "code",
   "execution_count": 423,
   "id": "f201f959",
   "metadata": {},
   "outputs": [
    {
     "data": {
      "text/plain": [
       "InvoiceNo      object\n",
       "StockCode      object\n",
       "Description    object\n",
       "Quantity       object\n",
       "InvoiceDate    object\n",
       "UnitPrice      object\n",
       "CustomerID     object\n",
       "Country        object\n",
       "dtype: object"
      ]
     },
     "execution_count": 423,
     "metadata": {},
     "output_type": "execute_result"
    }
   ],
   "source": [
    "df.dtypes"
   ]
  },
  {
   "cell_type": "code",
   "execution_count": 424,
   "id": "703216db",
   "metadata": {},
   "outputs": [],
   "source": [
    "#Standardizing the format\n",
    "# # Function to strip non-integer characters from a string\n",
    "def strip_non_integers(s):\n",
    "    s = str(s)\n",
    "    cleaned = ''.join(filter(str.isdigit, s))\n",
    "    return np.NaN if cleaned == '' else cleaned\n",
    "\n",
    "# Removed non-integers from the columns\n",
    "df['InvoiceNo'] = df['InvoiceNo'].apply(strip_non_integers)\n",
    "df['StockCode'] = df['StockCode'].apply(strip_non_integers)\n",
    "#df['StockCode'].replace('', None, inplace=True)\n",
    "# #Removing leading $ before every description\n",
    "df['Description'] = df['Description'].apply(lambda s: str(s)[1:] if pd.notna(s) and str(s)[0] == '$' else s)\n",
    "#Removing trailing @ before every quantity\n",
    "df['Quantity'] = df['Quantity'].apply(lambda s: str(s)[:-1] if str(s)[-1]=='@' else str(s)).astype('int')\n",
    "#Converting the InvoiceDate to a datetime \n",
    "df['InvoiceDate'] = pd.to_datetime(df['InvoiceDate'])\n",
    "#Removing leading \"Ww\" from UnitPrice\n",
    "df['UnitPrice'] = df['UnitPrice'].apply(lambda s: float(s) if str(s)[:2]!=\"Ww\" else float(str(s[2:])))\n",
    "#Removing leading & sign\n",
    "df['CustomerID'] = df['CustomerID'].apply(lambda s: float(s) if str(s)[0]!='&' else float(str(s)[1:-1]))\n",
    "#Removing emojis, Xx and Yy from the Country column\n",
    "df['Country'] = df['Country'].apply(lambda s: str(s) if str(s)[:2]!='Xx' else str(s)[2:-1])\n",
    "df['Country'] = df['Country'].apply(lambda s: str(s) if str(s)[0]!='Y' else str(s)[1:-1])"
   ]
  },
  {
   "cell_type": "code",
   "execution_count": 435,
   "id": "02b98be7",
   "metadata": {},
   "outputs": [],
   "source": [
    "#Filling in missing values\n",
    "#Filling in missing descriptions based on rows descriptions with the same stock code\n",
    "df[\"Description\"] = df.groupby('StockCode')['Description'].transform(lambda x: x.ffill().bfill())\n",
    "#Since missing value is <30% of the dataset we can drop the\n",
    "df.dropna(inplace=True)"
   ]
  },
  {
   "cell_type": "code",
   "execution_count": 436,
   "id": "c0f717b5",
   "metadata": {},
   "outputs": [],
   "source": [
    "#Converting columns to correct datatype\n",
    "df[\"InvoiceNo\"] = df[\"InvoiceNo\"].astype(int)\n",
    "df[\"StockCode\"] = df[\"StockCode\"].astype(int)\n",
    "df[\"CustomerID\"] = df[\"CustomerID\"].astype(int)"
   ]
  },
  {
   "cell_type": "code",
   "execution_count": 437,
   "id": "d8706882",
   "metadata": {},
   "outputs": [
    {
     "data": {
      "text/plain": [
       "InvoiceNo               int32\n",
       "StockCode               int32\n",
       "Description            object\n",
       "Quantity                int32\n",
       "InvoiceDate    datetime64[ns]\n",
       "UnitPrice             float64\n",
       "CustomerID              int32\n",
       "Country                object\n",
       "dtype: object"
      ]
     },
     "execution_count": 437,
     "metadata": {},
     "output_type": "execute_result"
    }
   ],
   "source": [
    "df.dtypes"
   ]
  },
  {
   "cell_type": "code",
   "execution_count": 441,
   "id": "d98276ab",
   "metadata": {},
   "outputs": [],
   "source": [
    "#Remove duplicates\n",
    "df.drop_duplicates(inplace=True)"
   ]
  },
  {
   "cell_type": "code",
   "execution_count": 442,
   "id": "f0d94678",
   "metadata": {},
   "outputs": [
    {
     "name": "stdout",
     "output_type": "stream",
     "text": [
      "(399788, 8)\n"
     ]
    },
    {
     "data": {
      "text/html": [
       "<div>\n",
       "<style scoped>\n",
       "    .dataframe tbody tr th:only-of-type {\n",
       "        vertical-align: middle;\n",
       "    }\n",
       "\n",
       "    .dataframe tbody tr th {\n",
       "        vertical-align: top;\n",
       "    }\n",
       "\n",
       "    .dataframe thead th {\n",
       "        text-align: right;\n",
       "    }\n",
       "</style>\n",
       "<table border=\"1\" class=\"dataframe\">\n",
       "  <thead>\n",
       "    <tr style=\"text-align: right;\">\n",
       "      <th></th>\n",
       "      <th>InvoiceNo</th>\n",
       "      <th>StockCode</th>\n",
       "      <th>Description</th>\n",
       "      <th>Quantity</th>\n",
       "      <th>InvoiceDate</th>\n",
       "      <th>UnitPrice</th>\n",
       "      <th>CustomerID</th>\n",
       "      <th>Country</th>\n",
       "    </tr>\n",
       "  </thead>\n",
       "  <tbody>\n",
       "    <tr>\n",
       "      <th>0</th>\n",
       "      <td>536365</td>\n",
       "      <td>85123</td>\n",
       "      <td>WHITE HANGING HEART T-LIGHT HOLDER</td>\n",
       "      <td>6</td>\n",
       "      <td>2010-12-01 08:26:00</td>\n",
       "      <td>2.55</td>\n",
       "      <td>17850</td>\n",
       "      <td>United Kingdom</td>\n",
       "    </tr>\n",
       "    <tr>\n",
       "      <th>1</th>\n",
       "      <td>536365</td>\n",
       "      <td>71053</td>\n",
       "      <td>WHITE METAL LANTERN</td>\n",
       "      <td>6</td>\n",
       "      <td>2010-12-01 08:26:00</td>\n",
       "      <td>3.39</td>\n",
       "      <td>17850</td>\n",
       "      <td>United Kingdom</td>\n",
       "    </tr>\n",
       "    <tr>\n",
       "      <th>2</th>\n",
       "      <td>536365</td>\n",
       "      <td>84406</td>\n",
       "      <td>CREAM CUPID HEARTS COAT HANGER</td>\n",
       "      <td>8</td>\n",
       "      <td>2010-12-01 08:26:00</td>\n",
       "      <td>2.75</td>\n",
       "      <td>17850</td>\n",
       "      <td>United Kingdom</td>\n",
       "    </tr>\n",
       "    <tr>\n",
       "      <th>3</th>\n",
       "      <td>536365</td>\n",
       "      <td>84029</td>\n",
       "      <td>KNITTED UNION FLAG HOT WATER BOTTLE</td>\n",
       "      <td>6</td>\n",
       "      <td>2010-12-01 08:26:00</td>\n",
       "      <td>3.39</td>\n",
       "      <td>17850</td>\n",
       "      <td>United Kingdom</td>\n",
       "    </tr>\n",
       "    <tr>\n",
       "      <th>4</th>\n",
       "      <td>536365</td>\n",
       "      <td>84029</td>\n",
       "      <td>RED WOOLLY HOTTIE WHITE HEART.</td>\n",
       "      <td>6</td>\n",
       "      <td>2010-12-01 08:26:00</td>\n",
       "      <td>3.39</td>\n",
       "      <td>17850</td>\n",
       "      <td>United Kingdom</td>\n",
       "    </tr>\n",
       "  </tbody>\n",
       "</table>\n",
       "</div>"
      ],
      "text/plain": [
       "   InvoiceNo  StockCode                          Description  Quantity  \\\n",
       "0     536365      85123   WHITE HANGING HEART T-LIGHT HOLDER         6   \n",
       "1     536365      71053                  WHITE METAL LANTERN         6   \n",
       "2     536365      84406       CREAM CUPID HEARTS COAT HANGER         8   \n",
       "3     536365      84029  KNITTED UNION FLAG HOT WATER BOTTLE         6   \n",
       "4     536365      84029       RED WOOLLY HOTTIE WHITE HEART.         6   \n",
       "\n",
       "          InvoiceDate  UnitPrice  CustomerID         Country  \n",
       "0 2010-12-01 08:26:00       2.55       17850  United Kingdom  \n",
       "1 2010-12-01 08:26:00       3.39       17850  United Kingdom  \n",
       "2 2010-12-01 08:26:00       2.75       17850  United Kingdom  \n",
       "3 2010-12-01 08:26:00       3.39       17850  United Kingdom  \n",
       "4 2010-12-01 08:26:00       3.39       17850  United Kingdom  "
      ]
     },
     "execution_count": 442,
     "metadata": {},
     "output_type": "execute_result"
    }
   ],
   "source": [
    "print(df.shape)\n",
    "df.head()"
   ]
  },
  {
   "cell_type": "code",
   "execution_count": 443,
   "id": "6eb3ef2b",
   "metadata": {},
   "outputs": [],
   "source": [
    "#exporting data\n",
    "df.to_csv('Cleaned_Ecommerce_dataset.csv')"
   ]
  }
 ],
 "metadata": {
  "kernelspec": {
   "display_name": "Python 3 (ipykernel)",
   "language": "python",
   "name": "python3"
  },
  "language_info": {
   "codemirror_mode": {
    "name": "ipython",
    "version": 3
   },
   "file_extension": ".py",
   "mimetype": "text/x-python",
   "name": "python",
   "nbconvert_exporter": "python",
   "pygments_lexer": "ipython3",
   "version": "3.9.13"
  }
 },
 "nbformat": 4,
 "nbformat_minor": 5
}
